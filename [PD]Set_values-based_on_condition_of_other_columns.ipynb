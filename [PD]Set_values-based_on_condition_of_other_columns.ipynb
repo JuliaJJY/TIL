{
 "cells": [
  {
   "cell_type": "code",
   "execution_count": 1,
   "metadata": {},
   "outputs": [
    {
     "ename": "NameError",
     "evalue": "name 'pd' is not defined",
     "output_type": "error",
     "traceback": [
      "\u001b[1;31m---------------------------------------------------------------------------\u001b[0m",
      "\u001b[1;31mNameError\u001b[0m                                 Traceback (most recent call last)",
      "\u001b[1;32mc:\\Users\\sju02\\Documents\\DevSpace\\TIL\\[PD]Set_values-based_on_condition_of_other_columns.ipynb 셀 1\u001b[0m in \u001b[0;36m<cell line: 2>\u001b[1;34m()\u001b[0m\n\u001b[0;32m      <a href='vscode-notebook-cell:/c%3A/Users/sju02/Documents/DevSpace/TIL/%5BPD%5DSet_values-based_on_condition_of_other_columns.ipynb#ch0000000?line=0'>1</a>\u001b[0m \u001b[39m# 데이터 읽어오기\u001b[39;00m\n\u001b[1;32m----> <a href='vscode-notebook-cell:/c%3A/Users/sju02/Documents/DevSpace/TIL/%5BPD%5DSet_values-based_on_condition_of_other_columns.ipynb#ch0000000?line=1'>2</a>\u001b[0m raw_data \u001b[39m=\u001b[39m pd\u001b[39m.\u001b[39mread_csv(\u001b[39m'\u001b[39m\u001b[39m./data/차주정보.csv\u001b[39m\u001b[39m'\u001b[39m)\u001b[39m#index_col='student number'\u001b[39;00m\n\u001b[0;32m      <a href='vscode-notebook-cell:/c%3A/Users/sju02/Documents/DevSpace/TIL/%5BPD%5DSet_values-based_on_condition_of_other_columns.ipynb#ch0000000?line=2'>3</a>\u001b[0m raw_data\u001b[39m.\u001b[39mhead()\n",
      "\u001b[1;31mNameError\u001b[0m: name 'pd' is not defined"
     ]
    }
   ],
   "source": [
    "# 데이터 읽어오기\n",
    "raw_data = pd.read_csv('./data/차주정보.csv')#index_col='student number'\n",
    "raw_data.head()"
   ]
  },
  {
   "cell_type": "code",
   "execution_count": null,
   "metadata": {},
   "outputs": [],
   "source": [
    "#raw_data의 컬럼명과 index 명을 확인\n",
    "raw_data.columns\n",
    "raw_data.index"
   ]
  },
  {
   "cell_type": "code",
   "execution_count": null,
   "metadata": {},
   "outputs": [],
   "source": [
    "# 컬럼명을 아래와 같이 수정\n",
    "# strd_yymm : 수집년월\n",
    "# deto_id : 사용자ID\n",
    "# bth_yr : 생년\n",
    "\n",
    "raw_data.rename(columns={\"strd_yymm\" : \"수집년월\",\"deto_id\" : \"사용자ID\",\"bth_yr\" : \"생년\"}, inplace =True)"
   ]
  },
  {
   "cell_type": "code",
   "execution_count": null,
   "metadata": {},
   "outputs": [],
   "source": [
    "#인덱스를 1부터 50 까지의 정수로 수정\n",
    "raw_data.index=raw_data.index+1"
   ]
  },
  {
   "cell_type": "code",
   "execution_count": null,
   "metadata": {},
   "outputs": [],
   "source": [
    "#출생년도를 4개의 카테고리로 분류\n",
    "#청년(19에서 29세); 중년(30에서 49세); 장년(50에서 64세); 노년(65세 이상))\n",
    "\n",
    "bins=[1900,1957,1972,1992,2003]\n",
    "labels=['노년','장년','중년','청년']\n",
    "cats=pd.cut(raw_data['생년'],bins,labels=labels)\n",
    "raw_data['연령대']=cats\n"
   ]
  },
  {
   "cell_type": "code",
   "execution_count": null,
   "metadata": {},
   "outputs": [],
   "source": [
    "# sex_cd 필드의 값이 1이면 M, 2면 F"
   ]
  },
  {
   "cell_type": "code",
   "execution_count": null,
   "metadata": {},
   "outputs": [],
   "source": [
    "#방법 1\n",
    "raw_data['성별'] = 0\n",
    "raw_data.loc[raw_data['sex_cd']==1, '성별']='M'\n",
    "raw_data.loc[raw_data['sex_cd']==2, '성별']='F'\n",
    "raw_data\n",
    "\n",
    "raw_data.info()"
   ]
  },
  {
   "cell_type": "code",
   "execution_count": null,
   "metadata": {},
   "outputs": [],
   "source": [
    "#방법2 \n",
    "\n",
    "\n",
    "sex_data=[]\n",
    "# sex_data=raw_data['sex_cd']\n",
    "\n",
    "def F_or_M(row):\n",
    "    if row == 1:\n",
    "        return \"M\"\n",
    "    else :\n",
    "        return \"F\"\n",
    "    \n",
    "raw_data['성별']=raw_data[\"sex_cd\"].apply(lambda x : F_or_M(x))\n",
    "\n",
    "raw_data"
   ]
  },
  {
   "cell_type": "code",
   "execution_count": null,
   "metadata": {},
   "outputs": [],
   "source": [
    "#방법3\n",
    "\n",
    "\n",
    "# sex_data=raw_data[\"성별\"]\n",
    "성별=[]\n",
    "for row in raw_data[\"sex_cd\"]:\n",
    "    if row == 1 :\n",
    "        성별.append(\"M\")\n",
    "    else :\n",
    "        성별.append('F')\n",
    "raw_data['성별']=성별\n",
    "raw_data"
   ]
  },
  {
   "cell_type": "code",
   "execution_count": null,
   "metadata": {},
   "outputs": [],
   "source": [
    "#방법4 : numpy 패키지 사용\n",
    "\n",
    "raw_data['성별'] = np.where(raw_data['sex_cd'] != 1, 'M', 'F')\n",
    "raw_data\n",
    "# 출처: https://nalara12200.tistory.com/162 [IT, 정보보안 자료실:티스토리]"
   ]
  }
 ],
 "metadata": {
  "kernelspec": {
   "display_name": "Python 3.10.5 64-bit",
   "language": "python",
   "name": "python3"
  },
  "language_info": {
   "codemirror_mode": {
    "name": "ipython",
    "version": 3
   },
   "file_extension": ".py",
   "mimetype": "text/x-python",
   "name": "python",
   "nbconvert_exporter": "python",
   "pygments_lexer": "ipython3",
   "version": "3.10.5"
  },
  "orig_nbformat": 4,
  "vscode": {
   "interpreter": {
    "hash": "ba631fd18c6ba4f2745f674ee284c5c9aa26a46ab7315e6d5db064e0987f2c32"
   }
  }
 },
 "nbformat": 4,
 "nbformat_minor": 2
}
