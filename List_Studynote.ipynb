{
 "cells": [
  {
   "cell_type": "code",
   "execution_count": 2,
   "metadata": {},
   "outputs": [],
   "source": [
    "ints=[1,2,3,4,5]\n",
    "floats =[1.1,2.2,3.3,4.4,5.5]\n",
    "names = ['홍길동','이몽룡','성춘향','변학도']\n",
    "numbers = [100,200,300,[10,20,30]]"
   ]
  },
  {
   "cell_type": "code",
   "execution_count": 4,
   "metadata": {},
   "outputs": [
    {
     "name": "stdout",
     "output_type": "stream",
     "text": [
      "홍길동\n",
      "이몽룡\n",
      "성춘향\n",
      "변학도\n"
     ]
    }
   ],
   "source": [
    "for name in names :\n",
    "    print(name)\n"
   ]
  },
  {
   "cell_type": "code",
   "execution_count": 5,
   "metadata": {},
   "outputs": [
    {
     "name": "stdout",
     "output_type": "stream",
     "text": [
      "['홍길동', '이몽룡', '성춘향', '변학도']\n",
      "['홍길동', '이몽룡', '성춘향', '변학도']\n",
      "['홍길동', '이몽룡', '성춘향', '변학도']\n",
      "['홍길동', '이몽룡', '성춘향', '변학도']\n"
     ]
    }
   ],
   "source": [
    "for name in names :\n",
    "    print(names)\n",
    "#M : 원소 출력이 아닌 리스트를 출력하게 되면, 리스트 갯수 만큼 리스트 출력"
   ]
  },
  {
   "cell_type": "code",
   "execution_count": 10,
   "metadata": {},
   "outputs": [
    {
     "name": "stdout",
     "output_type": "stream",
     "text": [
      "1\n",
      "2\n",
      "3\n",
      "4\n",
      "5\n",
      "0\n",
      "1\n",
      "2\n",
      "3\n",
      "4\n"
     ]
    }
   ],
   "source": [
    "#원소 출력\n",
    "ints=[1,2,3,4,5]\n",
    "for i in range(0,len(ints)):\n",
    "    print(ints[i])      \n",
    "\n",
    "#위와 다른점 : 아래는 원소 수 만큼 0부터 다음 숫자까지 출력.\n",
    "for i in range(0,len(ints)):\n",
    "    print(i)"
   ]
  },
  {
   "cell_type": "code",
   "execution_count": 5,
   "metadata": {},
   "outputs": [
    {
     "name": "stdout",
     "output_type": "stream",
     "text": [
      "1\n",
      "2\n",
      "3\n",
      "4\n",
      "5\n"
     ]
    }
   ],
   "source": [
    "for i in ints :\n",
    "    print (i)"
   ]
  },
  {
   "cell_type": "code",
   "execution_count": 9,
   "metadata": {},
   "outputs": [
    {
     "name": "stdout",
     "output_type": "stream",
     "text": [
      "0\n",
      "1\n",
      "2\n",
      "3\n",
      "4\n"
     ]
    }
   ],
   "source": [
    "for i in range(0,len(ints)):\n",
    "    print(i)"
   ]
  },
  {
   "cell_type": "code",
   "execution_count": 16,
   "metadata": {},
   "outputs": [
    {
     "name": "stdout",
     "output_type": "stream",
     "text": [
      "[1, 2, 3, 4, 5, 6]\n"
     ]
    },
    {
     "data": {
      "text/plain": [
       "[1, 4, 5, 6]"
      ]
     },
     "execution_count": 16,
     "metadata": {},
     "output_type": "execute_result"
    }
   ],
   "source": [
    "#리스트 합치기\n",
    "a=[1,2,3]\n",
    "b=[4,5,6]\n",
    "c=a+b\n",
    "print(c)\n",
    "\n",
    "#리스트 내용 변경\n",
    "a[0:2]=[10,20]\n",
    "a\n",
    "\n",
    "#하위 리스트 생성\n",
    "b[0]=[1,2,3,4]\n",
    "b\n",
    "\n",
    "#빈 값 지정하여 내용 변경\n",
    "c[1:3]=[]\n",
    "c"
   ]
  },
  {
   "cell_type": "code",
   "execution_count": 17,
   "metadata": {},
   "outputs": [
    {
     "name": "stdout",
     "output_type": "stream",
     "text": [
      "scores: [100, 20, 30, 40]\n",
      "values: [100, 20, 30, 40]\n"
     ]
    }
   ],
   "source": [
    "## 리스트 -얕은 복사(=)\n",
    "## 얕은 복사 : 실제 리스트는 복사되지 않고, 참조값(주소)만 복사\n",
    "## 복사본에서 요소 값 변경하면 원본 리스트 값도 변경\n",
    "scores = [10,20,30,40]\n",
    "values = scores  #주소가 같아져 버리니 다음에서 변경을 하면 둘 다 반영\n",
    "values[0]=100\n",
    "\n",
    "print(\"scores:\", scores)\n",
    "print('values:', values)"
   ]
  },
  {
   "cell_type": "code",
   "execution_count": 18,
   "metadata": {},
   "outputs": [
    {
     "name": "stdout",
     "output_type": "stream",
     "text": [
      "scores: [1, 2, 3, 4, 5]\n",
      "values: [100, 2, 3, 4, 5]\n"
     ]
    }
   ],
   "source": [
    "#리스트- 깊은복사(deep copy)\n",
    "## 리스트 값의 복사본을 새로 생성하여 반환, 원본 리스트의 원소값은 변경되지 않음\n",
    "\n",
    "scores = [1,2,3,4,5]\n",
    "values=list(scores)\n",
    "values[0]=100\n",
    "\n",
    "print(\"scores:\", scores)\n",
    "print(\"values:\", values)\n"
   ]
  },
  {
   "cell_type": "code",
   "execution_count": 19,
   "metadata": {},
   "outputs": [
    {
     "data": {
      "text/plain": [
       "[1, 'b', 'c']"
      ]
     },
     "execution_count": 19,
     "metadata": {},
     "output_type": "execute_result"
    }
   ],
   "source": [
    "#리스트- 깊은복사(deep copy)- deepcopy()\n",
    "import copy\n",
    "a=['a','b','c']\n",
    "b=copy.deepcopy(a)\n",
    "\n",
    "b[0]=1\n",
    "a\n",
    "b\n"
   ]
  },
  {
   "cell_type": "code",
   "execution_count": null,
   "metadata": {},
   "outputs": [],
   "source": [
    "#내장함수와 메소드\n",
    "# - 함수 : 특정 기능을 수행하는 코드\n",
    "# - print(), len() 같은\n",
    "\n",
    "#메소드\n",
    "# - 함수와 같은 코드 집합이지만 클래스의 멤버로 객체를 통해서만 사용 가능\n",
    "# - append() / insert() /remove() / count()\n",
    "# - 형식 : 객체.메소드  - names.append(), names.count()"
   ]
  },
  {
   "cell_type": "code",
   "execution_count": 21,
   "metadata": {},
   "outputs": [
    {
     "data": {
      "text/plain": [
       "2"
      ]
     },
     "execution_count": 21,
     "metadata": {},
     "output_type": "execute_result"
    }
   ],
   "source": [
    "#count() : 리스트 객체 내의 메서드- 리스트 내에서 '특정 요소의 개수 세기'\n",
    "# 리스트의 원소 갯수가 아님, 이는 len() 함수를 써야 함\n",
    "a=[1,2,3,3,4]\n",
    "a.count(3) #: 3의 개수 반환"
   ]
  },
  {
   "cell_type": "code",
   "execution_count": 26,
   "metadata": {},
   "outputs": [
    {
     "data": {
      "text/plain": [
       "[10, 20, 30]"
      ]
     },
     "execution_count": 26,
     "metadata": {},
     "output_type": "execute_result"
    }
   ],
   "source": [
    "#append() : 리스트의 끝에 새로운 요소 추가\n",
    "a.append(5)  #여러 요소 넣으면 에러\n",
    "a\n",
    "\n",
    "#빈 리스트 생성하고 요소 나중에 추가\n",
    "values=[]\n",
    "values.append(10)\n",
    "values.append(20)\n",
    "values.append(30)\n",
    "values"
   ]
  },
  {
   "cell_type": "code",
   "execution_count": 30,
   "metadata": {},
   "outputs": [
    {
     "data": {
      "text/plain": [
       "[0, 1, 2, 3, 4]"
      ]
     },
     "execution_count": 30,
     "metadata": {},
     "output_type": "execute_result"
    }
   ],
   "source": [
    "#for 문 사용하여 요소 추가\n",
    "scores=[]\n",
    "for i in range(5):\n",
    "    scores.append(i)\n",
    "\n",
    "scores  #리스트로 출력\n"
   ]
  },
  {
   "cell_type": "code",
   "execution_count": 31,
   "metadata": {},
   "outputs": [
    {
     "name": "stdout",
     "output_type": "stream",
     "text": [
      "0\n",
      "1\n",
      "2\n",
      "3\n",
      "4\n"
     ]
    }
   ],
   "source": [
    "for score in scores :\n",
    "    print(score) #원소로 출력"
   ]
  },
  {
   "cell_type": "code",
   "execution_count": 37,
   "metadata": {},
   "outputs": [
    {
     "data": {
      "text/plain": [
       "[1, '홍길동', 200, 2, 3, 4, 5, [10, 20], 12.3]"
      ]
     },
     "execution_count": 37,
     "metadata": {},
     "output_type": "execute_result"
    }
   ],
   "source": [
    "#insert(위치, 값) : 리스트의 특정 위치에 요소 삽입\n",
    "nums = [1,2,3,4,5,]\n",
    "nums.insert(1,200) #첫번째 뒤에 삽입\n",
    "nums\n",
    "\n",
    "nums.insert(1,\"홍길동\")\n",
    "nums\n",
    "\n",
    "nums.insert(len(nums),12.3) #맨 뒤에 삽입\n",
    "nums  \n",
    "\n",
    "#마지막 원소 앞에 하위 리스트 삽입\n",
    "nums.insert(len(nums)-1,[10,20])\n",
    "nums\n",
    "\n",
    "#마지막 원소로 추가 하려면 append 쓰면 됌!!"
   ]
  },
  {
   "cell_type": "code",
   "execution_count": 20,
   "metadata": {},
   "outputs": [
    {
     "name": "stdout",
     "output_type": "stream",
     "text": [
      "회원 명단: ['김', '이', '박']\n",
      "회원 명단:\n",
      "김이박"
     ]
    }
   ],
   "source": [
    "#append() 예제2\n",
    "#3명의 회원을 입력 받아 리스트에 추가하고, 리스트 내용출력 (for 문 사용)\n",
    "\n",
    "#step1.리스트에 추가\n",
    "list_m = []\n",
    "for i in range(3) :\n",
    "    member=input(\"회원 입력 :\")\n",
    "    list_m.append(member)\n",
    "\n",
    "print(\"회원 명단:\",list_m)   #회원 명단: ['김', '이', '박']\n",
    "\n",
    "#step2. 위에로도 출력은 되지만, 리스트가 아닌 원소로 출력하고 싶다면.\n",
    "print(\"회원 명단:\",end ='') #옆으로 다음 문구 출력\n",
    "for member in list_m :\n",
    "        print(member, end ='')\n"
   ]
  },
  {
   "cell_type": "code",
   "execution_count": 2,
   "metadata": {},
   "outputs": [
    {
     "name": "stdout",
     "output_type": "stream",
     "text": [
      "4삭제- 1 :  [1, 2, 3, 3, 5, 4, 3]\n",
      "4삭제- 2 :  [1, 2, 3, 3, 5, 3]\n"
     ]
    }
   ],
   "source": [
    "#remove() : 리스트의 여러 요소 중 첫번째 한 요소를 지우기 위해 사용. 동일 원소 여러개 지우려면 for 문 사용\n",
    "\n",
    "n=[1,2,3,3,4,5,4,4,3]\n",
    "n.remove(4)\n",
    "n\n",
    "\n",
    "count=n.count(4)  #for 문 써서 갯수만큼 반복 하려면 count 함수 써야 함\n",
    "count\n",
    "\n",
    "\n",
    "for i in range(count):\n",
    "    n.remove(4)\n",
    "    \n",
    "    print(\"4삭제- %d : \" % (i+1),n)"
   ]
  },
  {
   "cell_type": "code",
   "execution_count": 1,
   "metadata": {},
   "outputs": [
    {
     "name": "stdout",
     "output_type": "stream",
     "text": [
      "d\n",
      "['a', 'b', 'c']\n"
     ]
    }
   ],
   "source": [
    "#pop() :리스트의 '마지막 요소' 반환하고 삭제\n",
    "x=['a','b','c','d']\n",
    "y=x.pop()\n",
    "print(y)\n",
    "print(x)\n"
   ]
  },
  {
   "cell_type": "code",
   "execution_count": 3,
   "metadata": {},
   "outputs": [
    {
     "name": "stdout",
     "output_type": "stream",
     "text": [
      "['슈퍼맨', ' 스파이더맨', '아이언맨', '배트맨']\n"
     ]
    }
   ],
   "source": [
    "# pop(인덱스) : 인덱스 위치에 있는 요소 반환하고 삭제\n",
    "heroes = ['슈퍼맨', \" 스파이더맨\", \"헐크\", \"아이언맨\",'배트맨']\n",
    "heroes.pop(2)\n",
    "print(heroes)"
   ]
  },
  {
   "cell_type": "code",
   "execution_count": 5,
   "metadata": {},
   "outputs": [
    {
     "name": "stdout",
     "output_type": "stream",
     "text": [
      "[1, 2, 3, 4, 5]\n"
     ]
    }
   ],
   "source": [
    "#extend() :리스트 확장, append 랑 inset는 [4,5] 로 넣으면 하위 리스트로 추가되는 반면, extend는 동일 객체로 들어감\n",
    "a=[1,2,3]\n",
    "a.extend([4,5])\n",
    "print(a)"
   ]
  },
  {
   "cell_type": "code",
   "execution_count": 6,
   "metadata": {},
   "outputs": [
    {
     "name": "stdout",
     "output_type": "stream",
     "text": [
      "[64, 78, 81, 89, 90]\n"
     ]
    }
   ],
   "source": [
    "#sort(), sorted()\n",
    "scores = [90,78,81,64,89]\n",
    "scores.sort()\n",
    "print(scores)"
   ]
  },
  {
   "cell_type": "code",
   "execution_count": 10,
   "metadata": {},
   "outputs": [
    {
     "name": "stdout",
     "output_type": "stream",
     "text": [
      "[90, 89, 81, 78, 64]\n",
      "[89, 64, 81, 78, 90]\n"
     ]
    }
   ],
   "source": [
    "scores.sort(reverse=True)\n",
    "print(scores)\n",
    "\n",
    "#reverse는 정렬 없이 그냥 역순\n",
    "scores_2=[90,78,81,64,89]\n",
    "scores_2.reverse()\n",
    "print(scores_2)"
   ]
  },
  {
   "cell_type": "code",
   "execution_count": 15,
   "metadata": {},
   "outputs": [
    {
     "name": "stdout",
     "output_type": "stream",
     "text": [
      "['A', 'C', 'b', 'd']\n",
      "['d', 'C', 'b', 'A']\n",
      "[1, 2, 3, 4, 5]\n"
     ]
    }
   ],
   "source": [
    "char = ['b','A','d','C']\n",
    "char.sort()\n",
    "print(char)\n",
    "\n",
    "char = ['b','A','d','C']  #대소문자 구별 없이 역순으로 정렬\n",
    "char.sort(key=str.lower,reverse=True)\n",
    "print(char)\n",
    "\n",
    "\n",
    "#sorted() : 원본 유지하면서 정렬된 새로운 리스트 반환\n",
    "a=[3,5,2,1,4]\n",
    "b=sorted(a)\n",
    "print(b)"
   ]
  },
  {
   "cell_type": "code",
   "execution_count": 17,
   "metadata": {},
   "outputs": [
    {
     "data": {
      "text/plain": [
       "2"
      ]
     },
     "execution_count": 17,
     "metadata": {},
     "output_type": "execute_result"
    }
   ],
   "source": [
    "#index() : 리스트 안에서 원소 위치 값 반환\n",
    "names = [\"홍길동\",\"이몽룡\",'성춘향','변학도']\n",
    "names.index('성춘향') "
   ]
  },
  {
   "cell_type": "code",
   "execution_count": null,
   "metadata": {},
   "outputs": [],
   "source": [
    "# in/not in "
   ]
  },
  {
   "cell_type": "code",
   "execution_count": null,
   "metadata": {},
   "outputs": [],
   "source": []
  },
  {
   "cell_type": "code",
   "execution_count": null,
   "metadata": {},
   "outputs": [],
   "source": []
  },
  {
   "cell_type": "code",
   "execution_count": null,
   "metadata": {},
   "outputs": [],
   "source": []
  }
 ],
 "metadata": {
  "kernelspec": {
   "display_name": "Python 3.10.5 64-bit",
   "language": "python",
   "name": "python3"
  },
  "language_info": {
   "codemirror_mode": {
    "name": "ipython",
    "version": 3
   },
   "file_extension": ".py",
   "mimetype": "text/x-python",
   "name": "python",
   "nbconvert_exporter": "python",
   "pygments_lexer": "ipython3",
   "version": "3.10.5"
  },
  "orig_nbformat": 4,
  "vscode": {
   "interpreter": {
    "hash": "ba631fd18c6ba4f2745f674ee284c5c9aa26a46ab7315e6d5db064e0987f2c32"
   }
  }
 },
 "nbformat": 4,
 "nbformat_minor": 2
}
