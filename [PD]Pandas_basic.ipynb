{
 "cells": [
  {
   "cell_type": "markdown",
   "metadata": {},
   "source": [
    "### 판다스의 목적\n",
    "- 서로 다른 유형의 데이터를 공통된 포맷으로 정리\n",
    "- 데이터 프레임 제공(실무 사용 목적)\n",
    "\n",
    "### Series\n",
    "- pandas 의 기본 객체\n",
    "- numpy의 ndarray를 기반으로 **인덱싱 기능**을 추가하여 1차원 배열을 나타냄\n",
    "    - 지정하지 않을 시, ndarray와 같이 0based 인덱스 생성\n",
    "-같은 타입의 0개 이상의 데이터 가질 수 있음\n",
    "\n",
    "    1)자료구조 : 시리즈\n",
    "    - 데이터가 순차적으로 나열된 1차원 배열 형태\n",
    "    - 딕셔너리와 비슷한 구조 : {key(index):value}\n",
    "    2)Series() : 시리즈 생성하는 판다스 내장함수\n",
    "    -리스트, 딕셔너리, 튜플로 시리즈 만들 수 있음 \n"
   ]
  },
  {
   "cell_type": "code",
   "execution_count": null,
   "metadata": {},
   "outputs": [],
   "source": [
    "import pandas as pd\n",
    "import numpy as np"
   ]
  },
  {
   "cell_type": "code",
   "execution_count": null,
   "metadata": {},
   "outputs": [],
   "source": [
    "#### 시리즈 생성하기\n",
    "####1.리스트\n",
    "s=pd.Series([1,2,3])\n",
    "s\n"
   ]
  },
  {
   "cell_type": "code",
   "execution_count": null,
   "metadata": {},
   "outputs": [],
   "source": [
    "\n",
    "s2 = pd.Series(['a','a','c']) \n",
    "s2"
   ]
  },
  {
   "cell_type": "code",
   "execution_count": null,
   "metadata": {},
   "outputs": [],
   "source": [
    "####2.튜플\n",
    "s=pd.Series((1.0,2.0,3.0))\n",
    "s\n",
    "#pd.Series(1,2,3) #에러 발생,시리즈 생성시 반드시 집합적 자료형을 이용해야 함"
   ]
  },
  {
   "cell_type": "code",
   "execution_count": null,
   "metadata": {},
   "outputs": [],
   "source": [
    "#range() 도 사용 가능\n",
    "#np.arange() : 배열함수(인덱스가 있는 시리즈)\n",
    "s3=pd.Series(range(200))\n",
    "s3\n",
    "s3=pd.Series(np.arange(200)) #위와 결과는 같음\n",
    "s3\n",
    "np.arange(10)"
   ]
  },
  {
   "cell_type": "code",
   "execution_count": null,
   "metadata": {},
   "outputs": [],
   "source": [
    "#결측치 생성 - NaN: numpy라는 모듈에서 생성할 수 있음\n",
    "s=pd.Series([1,2,3,np.nan,6,8])\n",
    "s"
   ]
  },
  {
   "cell_type": "markdown",
   "metadata": {},
   "source": [
    "###인덱스 명시해서 시리즈 만들기"
   ]
  },
  {
   "cell_type": "code",
   "execution_count": null,
   "metadata": {},
   "outputs": [],
   "source": [
    "s=pd.Series([10,20,30], index=[1,2,3])\n",
    "s"
   ]
  },
  {
   "cell_type": "markdown",
   "metadata": {},
   "source": [
    "####시리즈의 index에 이름 붙이기\n"
   ]
  },
  {
   "cell_type": "code",
   "execution_count": null,
   "metadata": {},
   "outputs": [],
   "source": [
    "#인덱스의 형태 = 리스트 object 형태\n",
    "s= pd.Series([9904312,3448737,289045,2466052],\n",
    "            index=[\"서울\",\"부산\",\"인천\",\"대구\"])\n",
    "s.index  \n"
   ]
  },
  {
   "cell_type": "code",
   "execution_count": null,
   "metadata": {},
   "outputs": [],
   "source": [
    "s.index.name='도시'\n",
    "s"
   ]
  },
  {
   "cell_type": "code",
   "execution_count": null,
   "metadata": {},
   "outputs": [],
   "source": [
    "#값의 형태는 array(numpy의 자료구조)\n",
    "s.values"
   ]
  },
  {
   "cell_type": "code",
   "execution_count": null,
   "metadata": {},
   "outputs": [],
   "source": [
    "#시리즈에 이름 붙이기\n",
    "s.name ='인구'\n",
    "s"
   ]
  },
  {
   "cell_type": "markdown",
   "metadata": {},
   "source": [
    "### 인덱싱"
   ]
  },
  {
   "cell_type": "code",
   "execution_count": null,
   "metadata": {},
   "outputs": [],
   "source": [
    "print(s.index)"
   ]
  },
  {
   "cell_type": "code",
   "execution_count": null,
   "metadata": {},
   "outputs": [],
   "source": [
    "s['인천']  #인덱싱으로 해당 인덱스에 들어있는 값 추출\n",
    "s[2]"
   ]
  },
  {
   "cell_type": "code",
   "execution_count": null,
   "metadata": {},
   "outputs": [],
   "source": [
    "#정수형 인덱스라서 위치인덱스(숫자인덱스) 사용 못하는 경우\n",
    "s03=pd.Series([1,2,3], index=[1,2,3])\n",
    "s03[1]\n",
    "# s03[0] #위치인덱스로 접근 불가"
   ]
  },
  {
   "cell_type": "code",
   "execution_count": null,
   "metadata": {},
   "outputs": [],
   "source": [
    "#여러 데이터 추출-값만 추출되는 시리즈\n",
    "s[0],s[3],s[1]"
   ]
  },
  {
   "cell_type": "code",
   "execution_count": null,
   "metadata": {},
   "outputs": [],
   "source": [
    "#여러 데이터 추출-해당 인덱스의 아이템 추출 후 시리즈로 변환\n",
    "s[[0,3,1]]"
   ]
  },
  {
   "cell_type": "markdown",
   "metadata": {},
   "source": [
    "#### 시리즈 슬라이싱\n"
   ]
  },
  {
   "cell_type": "code",
   "execution_count": null,
   "metadata": {},
   "outputs": [],
   "source": [
    "#정수형 위치 인덱스 슬라이싱"
   ]
  },
  {
   "cell_type": "code",
   "execution_count": null,
   "metadata": {},
   "outputs": [],
   "source": [
    "s[[1,3]]"
   ]
  },
  {
   "cell_type": "code",
   "execution_count": null,
   "metadata": {},
   "outputs": [],
   "source": [
    "s[1:3]"
   ]
  },
  {
   "cell_type": "code",
   "execution_count": null,
   "metadata": {},
   "outputs": [],
   "source": [
    "#정수형 인덱스를 명시했을 경우\n",
    "s_01 = pd.Series([100,200,300,400], index=[1,2,3,4])\n",
    "s_01"
   ]
  },
  {
   "cell_type": "code",
   "execution_count": null,
   "metadata": {},
   "outputs": [],
   "source": [
    "s_01[[2,3,]]\n",
    "s_01[2:4]  #출력값 같음"
   ]
  },
  {
   "cell_type": "code",
   "execution_count": null,
   "metadata": {},
   "outputs": [],
   "source": [
    "#문자(라벨) 인덱스 슬라이싱- 가급적이면 문자형을 사용하는게 좋다"
   ]
  },
  {
   "cell_type": "code",
   "execution_count": null,
   "metadata": {},
   "outputs": [],
   "source": [
    "s[['부산','인천']]"
   ]
  },
  {
   "cell_type": "code",
   "execution_count": null,
   "metadata": {},
   "outputs": [],
   "source": [
    "#인덱스를 통한 데이터 업데이트 및 수정\n",
    "s['서울']=20000000\n",
    "s"
   ]
  },
  {
   "cell_type": "markdown",
   "metadata": {},
   "source": [
    "#### 인덱스 재사용 하기"
   ]
  },
  {
   "cell_type": "code",
   "execution_count": null,
   "metadata": {},
   "outputs": [],
   "source": [
    "print(s.index)\n",
    "\n",
    "s1=pd.Series(np.arange(4),s.index)\n",
    "s1"
   ]
  },
  {
   "cell_type": "markdown",
   "metadata": {},
   "source": [
    "### 벡터화 연산 : 집합적 자료형의 원소를 독립적으로 계산(인덱스는 불가, 값만)\n"
   ]
  },
  {
   "cell_type": "code",
   "execution_count": null,
   "metadata": {},
   "outputs": [],
   "source": [
    "pd.Series([1,2,3]) + 4"
   ]
  },
  {
   "cell_type": "code",
   "execution_count": null,
   "metadata": {},
   "outputs": [],
   "source": [
    "s/100000"
   ]
  },
  {
   "cell_type": "code",
   "execution_count": null,
   "metadata": {},
   "outputs": [],
   "source": [
    "#시리즈[조건]\n",
    "s[(s>250e4)&(s<500e4)]\n",
    "#각 원소값 중 결과가 True 인 것 반환"
   ]
  },
  {
   "cell_type": "markdown",
   "metadata": {},
   "source": [
    "#### Boolean selection[]\n",
    "True 값에 해당하는 값만 새로 반환하여 series에 포함시킴(값, 인덱스 모두 가능)"
   ]
  },
  {
   "cell_type": "code",
   "execution_count": null,
   "metadata": {},
   "outputs": [],
   "source": [
    "s0 = pd.Series(np.arange(10), np.arange(10)+1)\n",
    "#(값,인덱스)\n",
    "s0"
   ]
  },
  {
   "cell_type": "code",
   "execution_count": null,
   "metadata": {},
   "outputs": [],
   "source": [
    "s0>5"
   ]
  },
  {
   "cell_type": "code",
   "execution_count": null,
   "metadata": {},
   "outputs": [],
   "source": [
    "s0[s0>5]"
   ]
  },
  {
   "cell_type": "code",
   "execution_count": null,
   "metadata": {},
   "outputs": [],
   "source": [
    "s0[s0%2 == 0]"
   ]
  },
  {
   "cell_type": "code",
   "execution_count": null,
   "metadata": {},
   "outputs": [],
   "source": [
    "#인덱스에 적용\n",
    "s0.index>5"
   ]
  },
  {
   "cell_type": "code",
   "execution_count": null,
   "metadata": {},
   "outputs": [],
   "source": [
    "s0[s0.index>5]"
   ]
  },
  {
   "cell_type": "code",
   "execution_count": null,
   "metadata": {},
   "outputs": [],
   "source": [
    "s0[(s0>5) & (s0<8)]"
   ]
  },
  {
   "cell_type": "code",
   "execution_count": null,
   "metadata": {},
   "outputs": [],
   "source": [
    "#.sum() : True 의 개수를 세어 주는 함수\n",
    "(s0>=7).sum()"
   ]
  },
  {
   "cell_type": "code",
   "execution_count": null,
   "metadata": {},
   "outputs": [],
   "source": [
    "#(a[a>b]).sum() : 조건의 결과가 true인 원소들의 합\n",
    "(s0[s0>=7]).sum()"
   ]
  },
  {
   "cell_type": "code",
   "execution_count": null,
   "metadata": {},
   "outputs": [],
   "source": [
    "#### 두 시리즈간의 연산\n"
   ]
  },
  {
   "cell_type": "code",
   "execution_count": null,
   "metadata": {},
   "outputs": [],
   "source": [
    "#동일한 인덱스만 있을 때\n",
    "num_s1=pd.Series([1,2,3,4],index=['a','b','c','d'])\n",
    "num_s2=pd.Series([5,6,7,8],index=['b','c','d','a'])\n",
    "num_s1 + num_s2"
   ]
  },
  {
   "cell_type": "code",
   "execution_count": null,
   "metadata": {},
   "outputs": [],
   "source": [
    "#다른 인덱스가 있을 때\n",
    "num_s3=pd.Series([5,6,7,8],index=['e','b','f','g'])\n",
    "num_s4=pd.Series([1,2,3,4],index=['a','b','c','d'])\n",
    "num_s3 - num_s4"
   ]
  },
  {
   "cell_type": "markdown",
   "metadata": {},
   "source": [
    "## 딕셔너리\n",
    "### 딕셔너리와 시리즈의 관계\n",
    "- 시리즈 객체는 라벨(문자)에 의해 인덱싱 가능한, 라벨을 key로 갖는 딕셔너리형\n",
    "- 딕셔너리에서 제공하는 대부분의 연산자 사용 가능(in, for...)\n"
   ]
  },
  {
   "cell_type": "code",
   "execution_count": null,
   "metadata": {},
   "outputs": [],
   "source": [
    "print(s)\n",
    "'서울' in s #True\n",
    "'대구' not in s #False"
   ]
  },
  {
   "cell_type": "markdown",
   "metadata": {},
   "source": [
    "##### items() 함수- 딕셔너리 함수이나 시리즈에 사용 가능\n",
    " "
   ]
  },
  {
   "cell_type": "code",
   "execution_count": null,
   "metadata": {},
   "outputs": [],
   "source": [
    "s.items() #zip"
   ]
  },
  {
   "cell_type": "code",
   "execution_count": null,
   "metadata": {},
   "outputs": [],
   "source": [
    "list(s.items())"
   ]
  },
  {
   "cell_type": "code",
   "execution_count": null,
   "metadata": {},
   "outputs": [],
   "source": [
    "#시리즈 각 원소 출력\n",
    "for k,v in s.items() :\n",
    "    print('%s은/는 %d' % (k,v))  #key, value 로  차례대로 반환"
   ]
  },
  {
   "cell_type": "code",
   "execution_count": null,
   "metadata": {},
   "outputs": [],
   "source": [
    "for i in s.items() :\n",
    "    print(i)"
   ]
  },
  {
   "cell_type": "code",
   "execution_count": null,
   "metadata": {},
   "outputs": [],
   "source": [
    "for a,b in s.items() :\n",
    "    print(a,b)"
   ]
  },
  {
   "cell_type": "markdown",
   "metadata": {},
   "source": [
    "### 딕셔너리로 시리즈 만들기\n"
   ]
  },
  {
   "cell_type": "code",
   "execution_count": null,
   "metadata": {},
   "outputs": [],
   "source": [
    "scores = {'홍길동':96, \"이몽룡\":100, \"성춘향\": 88}\n",
    "s=pd.Series(scores)\n",
    "s"
   ]
  },
  {
   "cell_type": "code",
   "execution_count": null,
   "metadata": {},
   "outputs": [],
   "source": [
    "#위에서 사용했던 city value 사용하기\n",
    "city = {'서울':9631482,'부산':3393191,'인천':2632035,'대전':1490158}\n",
    "s=pd.Series(city, index=['부산','인천','서울','대전'])\n",
    "s"
   ]
  },
  {
   "cell_type": "code",
   "execution_count": null,
   "metadata": {},
   "outputs": [],
   "source": [
    "#시리즈 갱신 및 삭제\n",
    "s['부산']=1630000\n",
    "del s['대전'] #한번 삭제하고 또 삭제하면 이미 지운것을 삭제하는거라 에러 남\n",
    "s"
   ]
  },
  {
   "cell_type": "code",
   "execution_count": null,
   "metadata": {},
   "outputs": [],
   "source": [
    "#시리즈에 새로운 원소 추가\n",
    "s['로마']=1870000\n",
    "s"
   ]
  },
  {
   "cell_type": "markdown",
   "metadata": {},
   "source": [
    "### Series 함수\n",
    "size(속성) : 개수 반환\n",
    "shape(속성) : 튜플형태로 shape반환\n",
    "unique: 유일한 값만 ndarray로 반환\n",
    "count : NaN을 제외한 개수를 반환\n",
    "mean: NaN을 제외한 평균\n",
    "value_counts: NaN을 제외하고 각 값들의 빈도를 반환"
   ]
  },
  {
   "cell_type": "code",
   "execution_count": null,
   "metadata": {},
   "outputs": [],
   "source": [
    "s1 = pd.Series([1, 1, 2, 1, 2, 2, 2, 1, 1, 3, 3, 4, 5, 5, 7, np.NaN])\n",
    "len(s1)"
   ]
  },
  {
   "cell_type": "code",
   "execution_count": null,
   "metadata": {},
   "outputs": [],
   "source": [
    "s1.size #len 과 같음, Nan 포함!"
   ]
  },
  {
   "cell_type": "code",
   "execution_count": null,
   "metadata": {},
   "outputs": [],
   "source": [
    "s1.unique() #nan도 하나의 값으로 보고 표현 되어 짐"
   ]
  },
  {
   "cell_type": "code",
   "execution_count": null,
   "metadata": {},
   "outputs": [],
   "source": [
    "s1.count() #nan을 제외한 원소의 개수\n",
    "s1.mean()"
   ]
  },
  {
   "cell_type": "code",
   "execution_count": null,
   "metadata": {},
   "outputs": [],
   "source": [
    "s1.value_counts()"
   ]
  },
  {
   "cell_type": "code",
   "execution_count": null,
   "metadata": {},
   "outputs": [],
   "source": [
    "#numpy의 array 타입에 판다스 mean() 적용시 Nan이 나옴\n",
    "a=np.array([2,2,2,2,np.NaN])\n",
    "a.mean() #nan\n",
    "#이를 방지하기 위해 다음과 같이 판다스 시리즈로 변환 후 사용\n",
    "\n",
    "b=pd.Series(a)\n",
    "print(b)\n",
    "b.mean()\n"
   ]
  },
  {
   "cell_type": "code",
   "execution_count": null,
   "metadata": {},
   "outputs": [],
   "source": [
    "a=[2,2,2,2,np.NaN]\n",
    "a.mean() #error, 그냥 리스트에는 파다스 함수인 mean 적용 불가!"
   ]
  },
  {
   "cell_type": "code",
   "execution_count": null,
   "metadata": {},
   "outputs": [],
   "source": []
  }
 ],
 "metadata": {
  "kernelspec": {
   "display_name": "Python 3.10.5 64-bit",
   "language": "python",
   "name": "python3"
  },
  "language_info": {
   "codemirror_mode": {
    "name": "ipython",
    "version": 3
   },
   "file_extension": ".py",
   "mimetype": "text/x-python",
   "name": "python",
   "nbconvert_exporter": "python",
   "pygments_lexer": "ipython3",
   "version": "3.10.5"
  },
  "orig_nbformat": 4,
  "vscode": {
   "interpreter": {
    "hash": "ba631fd18c6ba4f2745f674ee284c5c9aa26a46ab7315e6d5db064e0987f2c32"
   }
  }
 },
 "nbformat": 4,
 "nbformat_minor": 2
}
